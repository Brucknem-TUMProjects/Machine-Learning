{
 "cells": [
  {
   "cell_type": "code",
   "execution_count": 809,
   "metadata": {},
   "outputs": [],
   "source": [
    "import numpy as np\n",
    "import matplotlib.pyplot as plt\n",
    "\n",
    "from sklearn.datasets import load_digits\n",
    "from sklearn.model_selection import train_test_split\n",
    "from sklearn.preprocessing import label_binarize\n",
    "from sklearn.metrics import accuracy_score\n",
    "\n",
    "from scipy.special import softmax"
   ]
  },
  {
   "cell_type": "code",
   "execution_count": 810,
   "metadata": {},
   "outputs": [],
   "source": [
    "X, y = load_digits(return_X_y=True)\n",
    "# Convert a categorical vector y (shape [N]) into a one-hot encoded matrix (shape [N, K])\n",
    "Y = label_binarize(y, np.unique(y)).astype(np.float64)\n",
    "\n",
    "np.random.seed(123)\n",
    "X_train, X_test, Y_train, Y_test = train_test_split(X, Y, test_size=0.25)"
   ]
  },
  {
   "cell_type": "code",
   "execution_count": 811,
   "metadata": {},
   "outputs": [],
   "source": [
    "N, K = Y.shape  # N - num_samples, K - num_classes\n",
    "D = X.shape[1] # num_features"
   ]
  },
  {
   "cell_type": "markdown",
   "metadata": {},
   "source": [
    "Remember from the tutorial:\n",
    "1. No for loops! Use matrix multiplication and broadcasting whenever possible.\n",
    "2. Think about numerical stability"
   ]
  },
  {
   "cell_type": "code",
   "execution_count": 812,
   "metadata": {},
   "outputs": [],
   "source": [
    "import nn_utils  # module containing helper functions for checking the correctness of your code"
   ]
  },
  {
   "cell_type": "markdown",
   "metadata": {},
   "source": [
    "## Task 1: Affine layer\n",
    "Implement `forward` and `backward` functions for `Affine` layer"
   ]
  },
  {
   "cell_type": "code",
   "execution_count": 813,
   "metadata": {},
   "outputs": [],
   "source": [
    "class Affine:\n",
    "    def forward(self, inputs, weight, bias):\n",
    "        \"\"\"Forward pass of an affine (fully connected) layer.\n",
    "\n",
    "        Args:\n",
    "            inputs: input matrix, shape (N, D)\n",
    "            weight: weight matrix, shape (D, H)\n",
    "            bias: bias vector, shape (H)\n",
    "\n",
    "        Returns\n",
    "            out: output matrix, shape (N, H)\n",
    "        \"\"\"\n",
    "        self.cache = (inputs, weight, bias)\n",
    "        #############################################################\n",
    "        out = inputs.dot(weight) + bias\n",
    "        #############################################################\n",
    "        assert out.shape[0] == inputs.shape[0]\n",
    "        assert out.shape[1] == weight.shape[1] == bias.shape[0]\n",
    "        return out\n",
    "\n",
    "    def backward(self, d_out):\n",
    "        \"\"\"Backward pass of an affine (fully connected) layer.\n",
    "\n",
    "        Args:\n",
    "            d_out: incoming derivaties, shape (N, H)\n",
    "\n",
    "        Returns:\n",
    "            d_inputs: gradient w.r.t. the inputs, shape (N, D)\n",
    "            d_weight: gradient w.r.t. the weight, shape (D, H)\n",
    "            d_bias: gradient w.r.t. the bias, shape (H)\n",
    "        \"\"\"\n",
    "        inputs, weight, bias = self.cache\n",
    "        #############################################################\n",
    "        d_inputs = d_out.dot(weight.T)\n",
    "        d_weight = inputs.T.dot(d_out)\n",
    "        d_bias = d_out.sum(axis=0)\n",
    "        #############################################################\n",
    "        assert np.all(d_inputs.shape == inputs.shape)\n",
    "        assert np.all(d_weight.shape == weight.shape)\n",
    "        assert np.all(d_bias.shape == bias.shape)\n",
    "        return d_inputs, d_weight, d_bias"
   ]
  },
  {
   "cell_type": "code",
   "execution_count": 814,
   "metadata": {},
   "outputs": [
    {
     "name": "stdout",
     "output_type": "stream",
     "text": [
      "All checks passed succesfully!\n"
     ]
    }
   ],
   "source": [
    "affine = Affine()\n",
    "nn_utils.check_affine(affine)"
   ]
  },
  {
   "cell_type": "markdown",
   "metadata": {},
   "source": [
    "## Task 2: ReLU layer\n",
    "Implement `forward` and `backward` functions for `ReLU` layer"
   ]
  },
  {
   "cell_type": "code",
   "execution_count": 815,
   "metadata": {},
   "outputs": [],
   "source": [
    "class ReLU:\n",
    "    def forward(self, inputs):\n",
    "        \"\"\"Forward pass of a ReLU layer.\n",
    "\n",
    "        Args:\n",
    "            inputs: input matrix, arbitrary shape\n",
    "\n",
    "        Returns:\n",
    "            out: output matrix, has same shape as inputs\n",
    "        \"\"\"\n",
    "        self.cache = inputs\n",
    "        #############################################################\n",
    "        out = np.maximum(0, inputs)\n",
    "        #############################################################\n",
    "        assert np.all(out.shape == inputs.shape)\n",
    "        return out\n",
    "\n",
    "    def backward(self, d_out):\n",
    "        \"\"\"Backward pass of an ReLU layer.\n",
    "\n",
    "        Args:\n",
    "            d_out: incoming derivatives, same shape as inputs in forward\n",
    "\n",
    "        Returns:\n",
    "            d_inputs: gradient w.r.t. the inputs, same shape as d_out\n",
    "        \"\"\"\n",
    "        inputs = self.cache\n",
    "        #############################################################\n",
    "        d_out[inputs <= 0] = 0\n",
    "        d_inputs = d_out\n",
    "        #############################################################\n",
    "        assert np.all(d_inputs.shape == inputs.shape)\n",
    "        return d_inputs"
   ]
  },
  {
   "cell_type": "code",
   "execution_count": 816,
   "metadata": {
    "scrolled": true
   },
   "outputs": [
    {
     "name": "stdout",
     "output_type": "stream",
     "text": [
      "All checks passed succesfully!\n"
     ]
    }
   ],
   "source": [
    "relu = ReLU()\n",
    "nn_utils.check_relu(relu)"
   ]
  },
  {
   "cell_type": "markdown",
   "metadata": {},
   "source": [
    "## Task 3: CategoricalCrossEntropy layer\n",
    "Implement `forward` and `backward` for `CategoricalCrossEntropy` layer"
   ]
  },
  {
   "cell_type": "code",
   "execution_count": 817,
   "metadata": {},
   "outputs": [],
   "source": [
    "class CategoricalCrossEntropy:\n",
    "    def forward(self, logits, labels):\n",
    "        \"\"\"Compute categorical cross-entropy loss.\n",
    "\n",
    "        Args:\n",
    "            logits: class logits, shape (N, K)\n",
    "            labels: target labels in one-hot format, shape (N, K)\n",
    "\n",
    "        Returns:\n",
    "            loss: loss value, float (a single number)\n",
    "        \"\"\"\n",
    "        #############################################################\n",
    "        input_size = logits.shape[0]\n",
    "        \n",
    "        # stable softmax, see Problem 2\n",
    "        probs = np.exp(logits - np.max(logits, axis=1, keepdims=True))\n",
    "        probs /= np.sum(probs, axis=1, keepdims=True)\n",
    "        \n",
    "        loss = np.sum(-np.log(probs[labels > 0]))\n",
    "        loss += np.sum(-np.log(1 - probs[labels < 1]))\n",
    "        loss /= labels.size\n",
    "        \n",
    "        \n",
    "        #############################################################\n",
    "        # probs is the (N, K) matrix of class probabilities\n",
    "        self.cache = (probs, labels)\n",
    "        assert isinstance(loss, float)\n",
    "        return loss\n",
    "\n",
    "    def backward(self, d_out=1.0):\n",
    "        \"\"\"Backward pass of the Cross Entropy loss.\n",
    "\n",
    "        Args:\n",
    "            d_out: Incoming derivatives. We set this value to 1.0 by default,\n",
    "                since this is the terminal node of our computational graph\n",
    "                (i.e. we usually want to compute gradients of loss w.r.t.\n",
    "                other model parameters).\n",
    "\n",
    "        Returns:\n",
    "            d_logits: gradient w.r.t. the logits, shape (N, K)\n",
    "            d_labels: gradient w.r.t. the labels\n",
    "                we don't need d_labels for our models, so we don't\n",
    "                compute it and set it to None. It's only included in the\n",
    "                function definition for consistency with other layers.\n",
    "        \"\"\"\n",
    "        probs, labels = self.cache\n",
    "        #############################################################\n",
    "        # TODO\n",
    "        x = np.arange(0, probs.shape[0], 1)\n",
    "        # indices of highest values along each row\n",
    "        y = np.array(probs.argmax(axis=1))\n",
    "        #############################################################\n",
    "        d_labels = None\n",
    "        assert np.all(d_logits.shape == probs.shape == labels.shape)\n",
    "        return d_logits, d_labels"
   ]
  },
  {
   "cell_type": "code",
   "execution_count": 818,
   "metadata": {
    "scrolled": false
   },
   "outputs": [
    {
     "name": "stdout",
     "output_type": "stream",
     "text": [
      "[[0.01913871 0.05649547 0.03781116 0.02417809 0.00436222 0.02357957\n",
      "  0.03049743 0.02343062 0.04148556 0.06853346 0.17194507 0.01501604\n",
      "  0.01054596 0.02714502 0.006817   0.01559695 0.10324066 0.01908193\n",
      "  0.00644153 0.03046369 0.26419387]\n",
      " [0.35596469 0.00360979 0.02749111 0.0102034  0.04783878 0.0154116\n",
      "  0.03989966 0.01586247 0.05254698 0.01127895 0.02860328 0.03435003\n",
      "  0.07555509 0.00169273 0.0511594  0.03395965 0.06570572 0.03283031\n",
      "  0.04130895 0.03744805 0.01727936]\n",
      " [0.00919404 0.03255966 0.02205139 0.02168439 0.02989842 0.01748965\n",
      "  0.01584109 0.00544198 0.04456086 0.38237585 0.11710244 0.03459266\n",
      "  0.01799063 0.0121958  0.01637443 0.0488485  0.06238675 0.06151514\n",
      "  0.01394366 0.01479452 0.01915814]\n",
      " [0.00952766 0.01097702 0.23833418 0.005214   0.01134707 0.03001588\n",
      "  0.03320569 0.01771823 0.10570307 0.01984407 0.01337059 0.10460084\n",
      "  0.11158894 0.04664573 0.0129418  0.11177141 0.01379446 0.01398316\n",
      "  0.03279198 0.04298376 0.01364048]\n",
      " [0.02705981 0.02595717 0.016354   0.01624432 0.00836438 0.02831297\n",
      "  0.12509394 0.06244289 0.04565076 0.03969393 0.17500971 0.06923476\n",
      "  0.05275407 0.00561858 0.01487428 0.0928017  0.09429234 0.01445304\n",
      "  0.01959971 0.02218662 0.04400101]]\n",
      "\n",
      "[ 0  1  2  3  4  5  6  7  8  9 10 11 12 13 14 15 16 17 18 19 20 21 22 23\n",
      " 24 25 26 27 28 29 30 31 32 33 34 35 36 37 38 39 40]\n",
      "(41,)\n",
      "[[0.01913871 0.05649547 0.03781116 0.02417809 0.00436222 0.02357957\n",
      "  0.03049743 0.02343062 0.04148556 0.06853346 0.17194507 0.01501604\n",
      "  0.01054596 0.02714502 0.006817   0.01559695 0.10324066 0.01908193\n",
      "  0.00644153 0.03046369 0.26419387]\n",
      " [0.35596469 0.00360979 0.02749111 0.0102034  0.04783878 0.0154116\n",
      "  0.03989966 0.01586247 0.05254698 0.01127895 0.02860328 0.03435003\n",
      "  0.07555509 0.00169273 0.0511594  0.03395965 0.06570572 0.03283031\n",
      "  0.04130895 0.03744805 0.01727936]\n",
      " [0.00919404 0.03255966 0.02205139 0.02168439 0.02989842 0.01748965\n",
      "  0.01584109 0.00544198 0.04456086 0.38237585 0.11710244 0.03459266\n",
      "  0.01799063 0.0121958  0.01637443 0.0488485  0.06238675 0.06151514\n",
      "  0.01394366 0.01479452 0.01915814]\n",
      " [0.00952766 0.01097702 0.23833418 0.005214   0.01134707 0.03001588\n",
      "  0.03320569 0.01771823 0.10570307 0.01984407 0.01337059 0.10460084\n",
      "  0.11158894 0.04664573 0.0129418  0.11177141 0.01379446 0.01398316\n",
      "  0.03279198 0.04298376 0.01364048]\n",
      " [0.02705981 0.02595717 0.016354   0.01624432 0.00836438 0.02831297\n",
      "  0.12509394 0.06244289 0.04565076 0.03969393 0.17500971 0.06923476\n",
      "  0.05275407 0.00561858 0.01487428 0.0928017  0.09429234 0.01445304\n",
      "  0.01959971 0.02218662 0.04400101]]\n"
     ]
    },
    {
     "ename": "NameError",
     "evalue": "name 'd_logits' is not defined",
     "output_type": "error",
     "traceback": [
      "\u001b[0;31m---------------------------------------------------------------------------\u001b[0m",
      "\u001b[0;31mNameError\u001b[0m                                 Traceback (most recent call last)",
      "\u001b[0;32m<ipython-input-818-be586c2b23fb>\u001b[0m in \u001b[0;36m<module>\u001b[0;34m\u001b[0m\n\u001b[1;32m      1\u001b[0m \u001b[0mcross_entropy\u001b[0m \u001b[0;34m=\u001b[0m \u001b[0mCategoricalCrossEntropy\u001b[0m\u001b[0;34m(\u001b[0m\u001b[0;34m)\u001b[0m\u001b[0;34m\u001b[0m\u001b[0;34m\u001b[0m\u001b[0m\n\u001b[0;32m----> 2\u001b[0;31m \u001b[0mnn_utils\u001b[0m\u001b[0;34m.\u001b[0m\u001b[0mcheck_cross_entropy\u001b[0m\u001b[0;34m(\u001b[0m\u001b[0mcross_entropy\u001b[0m\u001b[0;34m)\u001b[0m\u001b[0;34m\u001b[0m\u001b[0;34m\u001b[0m\u001b[0m\n\u001b[0m",
      "\u001b[0;32m~/Documents/TUM/Master/Machine-Learning/Exercise/Exercise09/nn_utils.py\u001b[0m in \u001b[0;36mcheck_cross_entropy\u001b[0;34m(cross_entropy)\u001b[0m\n\u001b[1;32m    126\u001b[0m \u001b[0;34m\u001b[0m\u001b[0m\n\u001b[1;32m    127\u001b[0m     \u001b[0mout\u001b[0m \u001b[0;34m=\u001b[0m \u001b[0mcross_entropy\u001b[0m\u001b[0;34m.\u001b[0m\u001b[0mforward\u001b[0m\u001b[0;34m(\u001b[0m\u001b[0mlogits\u001b[0m\u001b[0;34m,\u001b[0m \u001b[0mlabels\u001b[0m\u001b[0;34m)\u001b[0m\u001b[0;34m\u001b[0m\u001b[0;34m\u001b[0m\u001b[0m\n\u001b[0;32m--> 128\u001b[0;31m     \u001b[0md_logits\u001b[0m\u001b[0;34m,\u001b[0m \u001b[0md_labels\u001b[0m \u001b[0;34m=\u001b[0m \u001b[0mcross_entropy\u001b[0m\u001b[0;34m.\u001b[0m\u001b[0mbackward\u001b[0m\u001b[0;34m(\u001b[0m\u001b[0;36m1.0\u001b[0m\u001b[0;34m)\u001b[0m\u001b[0;34m\u001b[0m\u001b[0;34m\u001b[0m\u001b[0m\n\u001b[0m\u001b[1;32m    129\u001b[0m     \u001b[0;32mif\u001b[0m \u001b[0;32mnot\u001b[0m \u001b[0md_logits\u001b[0m\u001b[0;34m.\u001b[0m\u001b[0mshape\u001b[0m \u001b[0;34m==\u001b[0m \u001b[0;34m(\u001b[0m\u001b[0;36m41\u001b[0m\u001b[0;34m,\u001b[0m \u001b[0;36m21\u001b[0m\u001b[0;34m)\u001b[0m\u001b[0;34m:\u001b[0m\u001b[0;34m\u001b[0m\u001b[0;34m\u001b[0m\u001b[0m\n\u001b[1;32m    130\u001b[0m         \u001b[0;32mraise\u001b[0m \u001b[0mAssertionError\u001b[0m\u001b[0;34m(\u001b[0m\u001b[0;34mf\"Shape of d_logits {d_logits.shape} doesn't match the shape of logits {logits.shape}.\"\u001b[0m\u001b[0;34m)\u001b[0m\u001b[0;34m\u001b[0m\u001b[0;34m\u001b[0m\u001b[0m\n",
      "\u001b[0;32m<ipython-input-817-635c249aa085>\u001b[0m in \u001b[0;36mbackward\u001b[0;34m(self, d_out)\u001b[0m\n\u001b[1;32m     57\u001b[0m         \u001b[0;31m#############################################################\u001b[0m\u001b[0;34m\u001b[0m\u001b[0;34m\u001b[0m\u001b[0;34m\u001b[0m\u001b[0m\n\u001b[1;32m     58\u001b[0m         \u001b[0md_labels\u001b[0m \u001b[0;34m=\u001b[0m \u001b[0;32mNone\u001b[0m\u001b[0;34m\u001b[0m\u001b[0;34m\u001b[0m\u001b[0m\n\u001b[0;32m---> 59\u001b[0;31m         \u001b[0;32massert\u001b[0m \u001b[0mnp\u001b[0m\u001b[0;34m.\u001b[0m\u001b[0mall\u001b[0m\u001b[0;34m(\u001b[0m\u001b[0md_logits\u001b[0m\u001b[0;34m.\u001b[0m\u001b[0mshape\u001b[0m \u001b[0;34m==\u001b[0m \u001b[0mprobs\u001b[0m\u001b[0;34m.\u001b[0m\u001b[0mshape\u001b[0m \u001b[0;34m==\u001b[0m \u001b[0mlabels\u001b[0m\u001b[0;34m.\u001b[0m\u001b[0mshape\u001b[0m\u001b[0;34m)\u001b[0m\u001b[0;34m\u001b[0m\u001b[0;34m\u001b[0m\u001b[0m\n\u001b[0m\u001b[1;32m     60\u001b[0m         \u001b[0;32mreturn\u001b[0m \u001b[0md_logits\u001b[0m\u001b[0;34m,\u001b[0m \u001b[0md_labels\u001b[0m\u001b[0;34m\u001b[0m\u001b[0;34m\u001b[0m\u001b[0m\n",
      "\u001b[0;31mNameError\u001b[0m: name 'd_logits' is not defined"
     ]
    }
   ],
   "source": [
    "cross_entropy = CategoricalCrossEntropy()\n",
    "nn_utils.check_cross_entropy(cross_entropy)"
   ]
  },
  {
   "cell_type": "markdown",
   "metadata": {},
   "source": [
    "# Logistic regression (with backpropagation) --- nothing to do in this section"
   ]
  },
  {
   "cell_type": "code",
   "execution_count": null,
   "metadata": {},
   "outputs": [],
   "source": [
    "class LogisticRegression:\n",
    "    def __init__(self, num_features, num_classes, learning_rate=1e-2):\n",
    "        \"\"\"Logistic regression model.\n",
    "        Gradients are computed with backpropagation.\n",
    "\n",
    "\n",
    "        The model consists of the following sequence of opeartions:\n",
    "        \n",
    "        input -> affine -> softmax\n",
    "        \"\"\"\n",
    "        self.learning_rate = learning_rate\n",
    "        \n",
    "        # Initialize the model parameters\n",
    "        self.params = {\n",
    "            'W': np.zeros([num_features, num_classes]),\n",
    "            'b': np.zeros([num_classes])\n",
    "        }\n",
    "        \n",
    "        # Define layers\n",
    "        self.affine = Affine()\n",
    "        self.cross_entropy = CategoricalCrossEntropy()\n",
    "    \n",
    "    def predict(self, X):\n",
    "        \"\"\"Generate predictions for one minibatch.\n",
    "        \n",
    "        Args:\n",
    "            X: data matrix, shape (N, D)\n",
    "            \n",
    "        Returns:\n",
    "            Y_pred: predicted class probabilities, shape (N, D)\n",
    "            Y_pred[n, k] = probability that sample n belongs to class k\n",
    "        \"\"\"\n",
    "        logits = self.affine.forward(X,self.params['W'], self.params['b'])\n",
    "        Y_pred = softmax(logits, axis=1)\n",
    "        return Y_pred\n",
    "    \n",
    "    def step(self, X, Y):\n",
    "        \"\"\"Perform one step of gradient descent on the minibatch of data.\n",
    "        \n",
    "        1. Compute the cross-entropy loss for given (X, Y).\n",
    "        2. Compute the gradients of the loss w.r.t. model parameters.\n",
    "        3. Update the model parameters using the gradients.\n",
    "        \n",
    "        Args:\n",
    "            X: data matrix, shape (N, D)\n",
    "            Y: target labels in one-hot format, shape (N, K)\n",
    "            \n",
    "        Returns:\n",
    "            loss: loss for (X, Y), float, (a single number)\n",
    "        \"\"\"\n",
    "        # Forward pass - compute the loss on training data\n",
    "        logits = self.affine.forward(X, self.params['W'], self.params['b'])\n",
    "        loss = self.cross_entropy.forward(logits, Y)\n",
    "        \n",
    "        # Backward pass - compute the gradients of loss w.r.t. all the model parameters\n",
    "        grads = {}\n",
    "        d_logits, _ = self.cross_entropy.backward()\n",
    "        _, grads['W'], grads['b'] = self.affine.backward(d_logits)\n",
    "        \n",
    "        # Apply the gradients\n",
    "        for p in self.params:\n",
    "            self.params[p] = self.params[p] - self.learning_rate * grads[p]\n",
    "        return loss"
   ]
  },
  {
   "cell_type": "code",
   "execution_count": null,
   "metadata": {},
   "outputs": [],
   "source": [
    "# Specify optimization parameters\n",
    "learning_rate = 1e-2\n",
    "max_epochs = 501\n",
    "report_frequency = 50"
   ]
  },
  {
   "cell_type": "code",
   "execution_count": null,
   "metadata": {},
   "outputs": [],
   "source": [
    "log_reg = LogisticRegression(num_features=D, num_classes=K)"
   ]
  },
  {
   "cell_type": "code",
   "execution_count": null,
   "metadata": {
    "scrolled": true
   },
   "outputs": [],
   "source": [
    "for epoch in range(max_epochs):\n",
    "    loss = log_reg.step(X_train, Y_train)\n",
    "    if epoch % report_frequency == 0:\n",
    "        print(f'Epoch {epoch:4d}, loss = {loss:.4f}')"
   ]
  },
  {
   "cell_type": "code",
   "execution_count": null,
   "metadata": {},
   "outputs": [],
   "source": [
    "y_test_pred = log_reg.predict(X_test).argmax(1)\n",
    "y_test_true = Y_test.argmax(1)"
   ]
  },
  {
   "cell_type": "code",
   "execution_count": null,
   "metadata": {},
   "outputs": [],
   "source": [
    "print(f'test set accuracy = {accuracy_score(y_test_true, y_test_pred):.3f}')"
   ]
  },
  {
   "cell_type": "markdown",
   "metadata": {},
   "source": [
    "# Feed-forward neural network (with backpropagation)"
   ]
  },
  {
   "cell_type": "code",
   "execution_count": null,
   "metadata": {},
   "outputs": [],
   "source": [
    "def xavier_init(shape):\n",
    "    \"\"\"Initialize a weight matrix according to Xavier initialization.\n",
    "    \n",
    "    See pytorch.org/docs/stable/nn.init#torch.nn.init.xavier_uniform_ for details.\n",
    "    \"\"\"\n",
    "    a = np.sqrt(6.0 / float(np.sum(shape)))\n",
    "    return np.random.uniform(low=-a, high=a, size=shape)"
   ]
  },
  {
   "cell_type": "markdown",
   "metadata": {},
   "source": [
    "## Task 4: Implement a two-layer `FeedForwardNeuralNet` model\n",
    "You can use the `LogisticRegression` class for reference"
   ]
  },
  {
   "cell_type": "code",
   "execution_count": null,
   "metadata": {},
   "outputs": [],
   "source": [
    "class FeedforwardNeuralNet:\n",
    "    def __init__(self, input_size, hidden_size, output_size, learning_rate=1e-2):\n",
    "        \"\"\"A two-layer feedforward neural network with ReLU activations.\n",
    "        \n",
    "        (input_layer -> hidden_layer -> output_layer)\n",
    "        \n",
    "        \n",
    "        The model consists of the following sequence of opeartions:\n",
    "        \n",
    "        input -> affine -> relu -> affine -> softmax\n",
    "        \n",
    "        \"\"\"\n",
    "        self.learning_rate = learning_rate\n",
    "        \n",
    "        # Initialize the model parameters\n",
    "        self.params = {\n",
    "            'W1': xavier_init([input_size, hidden_size]),\n",
    "            'b1': np.zeros([hidden_size]),\n",
    "            'W2': xavier_init([hidden_size, output_size]),\n",
    "            'b2': np.zeros([output_size]),\n",
    "        }\n",
    "        \n",
    "        # Define layers\n",
    "        ############################################################\n",
    "        # TODO\n",
    "        \n",
    "        \n",
    "        ############################################################\n",
    "    \n",
    "    def predict(self, X):\n",
    "        \"\"\"Generate predictions for one minibatch.\n",
    "        \n",
    "        Args:\n",
    "            X: data matrix, shape (N, D)\n",
    "            \n",
    "        Returns:\n",
    "            Y_pred: predicted class probabilities, shape (N, D)\n",
    "            Y_pred[n, k] = probability that sample n belongs to class k\n",
    "        \"\"\"\n",
    "        ############################################################\n",
    "        # TODO\n",
    "        \n",
    "        \n",
    "        ############################################################\n",
    "        return Y_pred\n",
    "    \n",
    "    def step(self, X, Y):\n",
    "        \"\"\"Perform one step of gradient descent on the minibatch of data.\n",
    "        \n",
    "        1. Compute the cross-entropy loss for given (X, Y).\n",
    "        2. Compute the gradients of the loss w.r.t. model parameters.\n",
    "        3. Update the model parameters using the gradients.\n",
    "        \n",
    "        Args:\n",
    "            X: data matrix, shape (N, D)\n",
    "            Y: target labels in one-hot format, shape (N, K)\n",
    "            \n",
    "        Returns:\n",
    "            loss: loss for (X, Y), float, (a single number)\n",
    "        \"\"\"\n",
    "        ############################################################\n",
    "        # TODO\n",
    "        \n",
    "        \n",
    "        ############################################################\n",
    "        return loss"
   ]
  },
  {
   "cell_type": "code",
   "execution_count": null,
   "metadata": {},
   "outputs": [],
   "source": [
    "H = 32  # size of the hidden layer\n",
    "\n",
    "# Specify optimization parameters\n",
    "learning_rate = 1e-2\n",
    "max_epochs = 501\n",
    "report_frequency = 50"
   ]
  },
  {
   "cell_type": "code",
   "execution_count": null,
   "metadata": {},
   "outputs": [],
   "source": [
    "model = FeedforwardNeuralNet(input_size=D, hidden_size=H, output_size=K, learning_rate=learning_rate)"
   ]
  },
  {
   "cell_type": "code",
   "execution_count": null,
   "metadata": {},
   "outputs": [],
   "source": [
    "for epoch in range(max_epochs):\n",
    "    loss = model.step(X_train, Y_train)\n",
    "    if epoch % report_frequency == 0:\n",
    "        print(f'Epoch {epoch:4d}, loss = {loss:.4f}')"
   ]
  },
  {
   "cell_type": "code",
   "execution_count": null,
   "metadata": {},
   "outputs": [],
   "source": [
    "y_test_pred = model.predict(X_test).argmax(1)\n",
    "y_test_true = Y_test.argmax(1)"
   ]
  },
  {
   "cell_type": "code",
   "execution_count": null,
   "metadata": {
    "scrolled": true
   },
   "outputs": [],
   "source": [
    "print(f'test set accuracy = {accuracy_score(y_test_true, y_test_pred):.3f}')"
   ]
  }
 ],
 "metadata": {
  "kernelspec": {
   "display_name": "Python 3",
   "language": "python",
   "name": "python3"
  },
  "language_info": {
   "codemirror_mode": {
    "name": "ipython",
    "version": 3
   },
   "file_extension": ".py",
   "mimetype": "text/x-python",
   "name": "python",
   "nbconvert_exporter": "python",
   "pygments_lexer": "ipython3",
   "version": "3.8.0"
  }
 },
 "nbformat": 4,
 "nbformat_minor": 2
}
