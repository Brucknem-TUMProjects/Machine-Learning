{
 "cells": [
  {
   "cell_type": "markdown",
   "metadata": {
    "colab_type": "text",
    "id": "jgWURGohjfQa"
   },
   "source": [
    "# Programming task 11: Dimensionality Reduction"
   ]
  },
  {
   "cell_type": "code",
   "execution_count": 0,
   "metadata": {
    "colab": {},
    "colab_type": "code",
    "id": "XNPxT59TjfQj"
   },
   "outputs": [],
   "source": [
    "import numpy as np\n",
    "import matplotlib.pyplot as plt\n",
    "\n",
    "%matplotlib inline"
   ]
  },
  {
   "cell_type": "markdown",
   "metadata": {
    "colab_type": "text",
    "id": "kyjhGP_bjfQy"
   },
   "source": [
    "## Exporting the results to PDF\n",
    "Once you complete the assignments, export the entire notebook as PDF and attach it to your homework solutions. \n",
    "The best way of doing that is\n",
    "1. Run all the cells of the notebook.\n",
    "2. Export/download the notebook as PDF (File -> Download as -> PDF via LaTeX (.pdf)).\n",
    "3. Concatenate your solutions for other tasks with the output of Step 2. On a Linux machine you can simply use `pdfunite`, there are similar tools for other platforms too. You can only upload a single PDF file to Moodle.\n",
    "\n",
    "Make sure you are using `nbconvert` Version 5.5 or later by running `jupyter nbconvert --version`. Older versions clip lines that exceed page width, which makes your code harder to grade."
   ]
  },
  {
   "cell_type": "markdown",
   "metadata": {
    "colab_type": "text",
    "id": "jefJM-p-jfQ_"
   },
   "source": [
    "##  PCA"
   ]
  },
  {
   "cell_type": "markdown",
   "metadata": {
    "colab_type": "text",
    "id": "S67V01EKjfRC"
   },
   "source": [
    "Given the data in the matrix X your tasks is to:\n",
    "* Calculate the covariance matrix $\\Sigma$.\n",
    "* Calculate eigenvalues and eigenvectors of $\\Sigma$.\n",
    "* Plot the original data $X$ and the eigenvectors to a single diagram. What do you observe? Which eigenvector corresponds to the smallest eigenvalue?\n",
    "* Determine the smallest eigenvalue and remove its corresponding eigenvector. The remaining eigenvector is the basis of a new subspace.\n",
    "* Transform all vectors in X in this new subspace by expressing all vectors in X in this new basis.\t"
   ]
  },
  {
   "cell_type": "markdown",
   "metadata": {
    "colab_type": "text",
    "id": "vgG2AvhtjfRH"
   },
   "source": [
    "### The given data X"
   ]
  },
  {
   "cell_type": "code",
   "execution_count": 0,
   "metadata": {
    "colab": {},
    "colab_type": "code",
    "id": "-o-k-FKQjfRK"
   },
   "outputs": [],
   "source": [
    "X = np.array([(-3,-2),(-2,-1),(-1,0),(0,1),\n",
    "              (1,2),(2,3),(-2,-2),(-1,-1),\n",
    "              (0,0),(1,1),(2,2), (-2,-3),\n",
    "              (-1,-2),(0,-1),(1,0), (2,1),(3,2)])"
   ]
  },
  {
   "cell_type": "markdown",
   "metadata": {
    "colab_type": "text",
    "id": "3cJFP_AIjfRR"
   },
   "source": [
    "### Task 1: Calculate the covariance matrix $\\Sigma$"
   ]
  },
  {
   "cell_type": "code",
   "execution_count": 3,
   "metadata": {
    "colab": {
     "base_uri": "https://localhost:8080/",
     "height": 416
    },
    "colab_type": "code",
    "id": "DW5stWoVjfRU",
    "outputId": "8cf9d502-9219-418d-ee71-80003d86aa38"
   },
   "outputs": [
    {
     "name": "stdout",
     "output_type": "stream",
     "text": [
      "X before transformation: \n",
      "(17, 2)\n",
      "[[-3 -2]\n",
      " [-2 -1]\n",
      " [-1  0]\n",
      " [ 0  1]\n",
      " [ 1  2]\n",
      " [ 2  3]\n",
      " [-2 -2]\n",
      " [-1 -1]\n",
      " [ 0  0]\n",
      " [ 1  1]\n",
      " [ 2  2]\n",
      " [-2 -3]\n",
      " [-1 -2]\n",
      " [ 0 -1]\n",
      " [ 1  0]\n",
      " [ 2  1]\n",
      " [ 3  2]]\n",
      "\n",
      "Covariance matrix: \n",
      "[[3.    2.625]\n",
      " [2.625 3.   ]]\n"
     ]
    }
   ],
   "source": [
    "def get_covariance(X):\n",
    "    \"\"\"Calculates the covariance matrix of the input data.\n",
    "    \n",
    "    Parameters\n",
    "    ----------\n",
    "    X : array, shape [N, D]\n",
    "        Data matrix.\n",
    "        \n",
    "    Returns\n",
    "    -------\n",
    "    Sigma : array, shape [D, D]\n",
    "        Covariance matrix\n",
    "        \n",
    "    \"\"\"\n",
    "    return np.cov(X, rowvar=False)\n",
    "\n",
    "print(\"X before transformation: \")\n",
    "print(X.shape)\n",
    "print(X)\n",
    "print()\n",
    "\n",
    "print(\"Covariance matrix: \")\n",
    "print(get_covariance(X))"
   ]
  },
  {
   "cell_type": "markdown",
   "metadata": {
    "colab_type": "text",
    "id": "EWSBVcQcjfRd"
   },
   "source": [
    "### Task 2: Calculate eigenvalues and eigenvectors of  $\\Sigma$."
   ]
  },
  {
   "cell_type": "code",
   "execution_count": 4,
   "metadata": {
    "colab": {
     "base_uri": "https://localhost:8080/",
     "height": 416
    },
    "colab_type": "code",
    "id": "KqkraRaYjfRf",
    "outputId": "1abc6e4e-d2f6-4556-916f-010f5a92c032"
   },
   "outputs": [
    {
     "name": "stdout",
     "output_type": "stream",
     "text": [
      "X before transformation: \n",
      "(17, 2)\n",
      "[[-3 -2]\n",
      " [-2 -1]\n",
      " [-1  0]\n",
      " [ 0  1]\n",
      " [ 1  2]\n",
      " [ 2  3]\n",
      " [-2 -2]\n",
      " [-1 -1]\n",
      " [ 0  0]\n",
      " [ 1  1]\n",
      " [ 2  2]\n",
      " [-2 -3]\n",
      " [-1 -2]\n",
      " [ 0 -1]\n",
      " [ 1  0]\n",
      " [ 2  1]\n",
      " [ 3  2]]\n",
      "\n",
      "Eigenvalues and Eigenvectors: \n",
      "(array([5.625, 0.375]), array([[ 0.70710678, -0.70710678],\n",
      "       [ 0.70710678,  0.70710678]]))\n"
     ]
    }
   ],
   "source": [
    "def get_eigen(S):\n",
    "    \"\"\"Calculates the eigenvalues and eigenvectors of the input matrix.\n",
    "    \n",
    "    Parameters\n",
    "    ----------\n",
    "    S : array, shape [D, D]\n",
    "        Square symmetric positive definite matrix.\n",
    "        \n",
    "    Returns\n",
    "    -------\n",
    "    L : array, shape [D]\n",
    "        Eigenvalues of S\n",
    "    U : array, shape [D, D]\n",
    "        Eigenvectors of S\n",
    "    \n",
    "    \"\"\"\n",
    "    return np.linalg.eig(S)\n",
    "print(\"X before transformation: \")\n",
    "print(X.shape)\n",
    "print(X)\n",
    "print()\n",
    "\n",
    "print(\"Eigenvalues and Eigenvectors: \")\n",
    "print(get_eigen(get_covariance(X)))"
   ]
  },
  {
   "cell_type": "markdown",
   "metadata": {
    "colab_type": "text",
    "id": "hRcfOhfwjfRm"
   },
   "source": [
    "### Task 3: Plot the original data X and the eigenvectors to a single diagram.\n",
    "\n",
    "Note that, in general if $u_i$ is an eigenvector of the matrix $M$ with eigenvalue $\\lambda_i$ then $\\alpha \\cdot u_i$ is also an eigenvector of $M$ with the same eigenvalue $\\lambda_i$, where $\\alpha$ is an arbitrary scalar (including $\\alpha=-1$). \n",
    "\n",
    "Thus, the signs of the eigenvectors are arbitrary, and you can flip them without changing the meaning of the result. Only their direction matters. The particular result depends on the algorithm used to find them. "
   ]
  },
  {
   "cell_type": "code",
   "execution_count": 5,
   "metadata": {
    "colab": {
     "base_uri": "https://localhost:8080/",
     "height": 456
    },
    "colab_type": "code",
    "id": "5mTe-7ZwjfRp",
    "outputId": "d62122f5-3f8d-4b3e-fd30-48a2919db6ba"
   },
   "outputs": [
    {
     "name": "stdout",
     "output_type": "stream",
     "text": [
      "L: \n",
      "[5.625 0.375]\n",
      "\n",
      "U: \n",
      "[[ 0.70710678 -0.70710678]\n",
      " [ 0.70710678  0.70710678]]\n",
      "\n",
      "U L U^{T}\n",
      "[[3.    2.625]\n",
      " [2.625 3.   ]]\n",
      "\n"
     ]
    },
    {
     "data": {
      "image/png": "[encoded data removed]",
      "text/plain": [
       "<Figure size 432x288 with 1 Axes>"
      ]
     },
     "metadata": {
      "tags": []
     },
     "output_type": "display_data"
    }
   ],
   "source": [
    "# plot the original data\n",
    "plt.scatter(X[:, 0], X[:, 1])\n",
    "\n",
    "# plot the mean of the data\n",
    "mean_d1, mean_d2 = X.mean(0)\n",
    "plt.plot(mean_d1, mean_d2, 'o', markersize=10, color='red', alpha=0.5)\n",
    "\n",
    "# calculate the covariance matrix\n",
    "Sigma = get_covariance(X)\n",
    "# calculate the eigenvector and eigenvalues of Sigma\n",
    "L, U = get_eigen(Sigma)\n",
    "\n",
    "print(\"L: \")\n",
    "print(L)\n",
    "print()\n",
    "\n",
    "print(\"U: \")\n",
    "print(U)\n",
    "print()\n",
    "\n",
    "print(\"U L U^{T}\")\n",
    "print((U.dot(np.diag(L)).dot(U.T)))\n",
    "print()\n",
    "\n",
    "plt.arrow(mean_d1, mean_d2, U[0, 0], U[1, 0], width=0.01, color='red', alpha=0.5)\n",
    "plt.arrow(mean_d1, mean_d2, U[0, 1], U[1, 1], width=0.01, color='red', alpha=0.5);"
   ]
  },
  {
   "cell_type": "markdown",
   "metadata": {
    "colab_type": "text",
    "id": "gEuT12hKjfRy"
   },
   "source": [
    "What do you observe in the above plot? Which eigenvector corresponds to the smallest eigenvalue?\n",
    "\n",
    "Write your answer here:\n",
    "\n",
    "[ 0.70710678, -0.70710678]"
   ]
  },
  {
   "cell_type": "markdown",
   "metadata": {
    "colab_type": "text",
    "id": "onL1cs5JjfR1"
   },
   "source": [
    "### Task 4: Transform the data"
   ]
  },
  {
   "cell_type": "markdown",
   "metadata": {
    "colab_type": "text",
    "id": "L74gWcrrjfR3"
   },
   "source": [
    "Determine the smallest eigenvalue and remove its corresponding eigenvector. The remaining eigenvector is the basis of a new subspace. Transform all vectors in X in this new subspace by expressing all vectors in X in this new basis."
   ]
  },
  {
   "cell_type": "code",
   "execution_count": 0,
   "metadata": {
    "colab": {},
    "colab_type": "code",
    "id": "amP7vLozjfR6"
   },
   "outputs": [],
   "source": [
    "def transform(X, U, L):\n",
    "    \"\"\"Transforms the data in the new subspace spanned by the eigenvector corresponding to the largest eigenvalue.\n",
    "    \n",
    "    Parameters\n",
    "    ----------\n",
    "    X : array, shape [N, D]\n",
    "        Data matrix.\n",
    "    L : array, shape [D]\n",
    "        Eigenvalues of Sigma_X\n",
    "    U : array, shape [D, D]\n",
    "        Eigenvectors of Sigma_X\n",
    "        \n",
    "    Returns\n",
    "    -------\n",
    "    X_t : array, shape [N, 1]\n",
    "        Transformed data\n",
    "        \n",
    "    \"\"\"\n",
    "    print(\"L before transformation: \")\n",
    "    print(np.diag(L))\n",
    "    print()\n",
    "\n",
    "    print(\"U before transformation: \")\n",
    "    print(U)\n",
    "    print()\n",
    "\n",
    "    idx = np.argsort(L)[::-1]\n",
    "    U = U[:,idx]\n",
    "    L = L[idx[:-1]]\n",
    "    U = U[:, :-1]\n",
    "\n",
    "    print(\"L after transformation: \")\n",
    "    print(L)\n",
    "    print()\n",
    "\n",
    "    print(\"U after transformation: \")\n",
    "    print(U)\n",
    "    print()\n",
    "\n",
    "    print(\"X before transformation: \")\n",
    "    print(X.shape)\n",
    "    print(X)\n",
    "    print()\n",
    "    \n",
    "    print(\"X after transformation: \")\n",
    "    print(X.dot(U).shape)\n",
    "    print(X.dot(U))\n",
    "    print()\n",
    "\n",
    "    return X.dot(U)"
   ]
  },
  {
   "cell_type": "code",
   "execution_count": 7,
   "metadata": {
    "colab": {
     "base_uri": "https://localhost:8080/",
     "height": 972
    },
    "colab_type": "code",
    "id": "65L4uNbEjfSA",
    "outputId": "488ad35d-fc3d-42eb-ba04-657841da7be1"
   },
   "outputs": [
    {
     "name": "stdout",
     "output_type": "stream",
     "text": [
      "L before transformation: \n",
      "[[5.625 0.   ]\n",
      " [0.    0.375]]\n",
      "\n",
      "U before transformation: \n",
      "[[ 0.70710678 -0.70710678]\n",
      " [ 0.70710678  0.70710678]]\n",
      "\n",
      "L after transformation: \n",
      "[5.625]\n",
      "\n",
      "U after transformation: \n",
      "[[0.70710678]\n",
      " [0.70710678]]\n",
      "\n",
      "X before transformation: \n",
      "(17, 2)\n",
      "[[-3 -2]\n",
      " [-2 -1]\n",
      " [-1  0]\n",
      " [ 0  1]\n",
      " [ 1  2]\n",
      " [ 2  3]\n",
      " [-2 -2]\n",
      " [-1 -1]\n",
      " [ 0  0]\n",
      " [ 1  1]\n",
      " [ 2  2]\n",
      " [-2 -3]\n",
      " [-1 -2]\n",
      " [ 0 -1]\n",
      " [ 1  0]\n",
      " [ 2  1]\n",
      " [ 3  2]]\n",
      "\n",
      "X after transformation: \n",
      "(17, 1)\n",
      "[[-3.53553391]\n",
      " [-2.12132034]\n",
      " [-0.70710678]\n",
      " [ 0.70710678]\n",
      " [ 2.12132034]\n",
      " [ 3.53553391]\n",
      " [-2.82842712]\n",
      " [-1.41421356]\n",
      " [ 0.        ]\n",
      " [ 1.41421356]\n",
      " [ 2.82842712]\n",
      " [-3.53553391]\n",
      " [-2.12132034]\n",
      " [-0.70710678]\n",
      " [ 0.70710678]\n",
      " [ 2.12132034]\n",
      " [ 3.53553391]]\n",
      "\n"
     ]
    }
   ],
   "source": [
    "X_t = transform(X, U, L)"
   ]
  },
  {
   "cell_type": "markdown",
   "metadata": {
    "colab_type": "text",
    "id": "-A-t3Ej8jfSK"
   },
   "source": [
    "##  SVD"
   ]
  },
  {
   "cell_type": "markdown",
   "metadata": {
    "colab_type": "text",
    "id": "8eYgbiYSjfSM"
   },
   "source": [
    "### Task 5: Given the matrix $M$ find its SVD decomposition $M= U \\cdot \\Sigma \\cdot V$ and reduce it to one dimension using the approach described in the lecture."
   ]
  },
  {
   "cell_type": "code",
   "execution_count": 0,
   "metadata": {
    "colab": {},
    "colab_type": "code",
    "id": "qFQWbwPwjfSO"
   },
   "outputs": [],
   "source": [
    "M = np.array([[1, 2], [6, 3],[0, 2]])"
   ]
  },
  {
   "cell_type": "code",
   "execution_count": 0,
   "metadata": {
    "colab": {},
    "colab_type": "code",
    "id": "J23aOMRNjfST"
   },
   "outputs": [],
   "source": [
    "def reduce_to_one_dimension(M):\n",
    "    \"\"\"Reduces the input matrix to one dimension using its SVD decomposition.\n",
    "    \n",
    "    Parameters\n",
    "    ----------\n",
    "    M : array, shape [N, D]\n",
    "        Input matrix.\n",
    "        \n",
    "    Returns\n",
    "    -------\n",
    "    M_t: array, shape [N, 1]\n",
    "        Reduce matrix.\n",
    "    \n",
    "    \"\"\"\n",
    "    u, s, vh = np.linalg.svd(M, full_matrices=True)\n",
    "    print(\"M before transformation: \")\n",
    "    print(M.shape)\n",
    "    print(M)\n",
    "    print()\n",
    "\n",
    "    print(\"U matrix before transformation: \")\n",
    "    print(u.shape)\n",
    "    print(u)\n",
    "    print()\n",
    "\n",
    "    print(\"Sigma matrix before transformation: \")\n",
    "    print(s.shape)\n",
    "    print(s)\n",
    "    print()\n",
    "\n",
    "    print(\"V matrix before transformation: \")\n",
    "    print(vh.shape)\n",
    "    print(vh)\n",
    "    print()\n",
    "\n",
    "    idx = np.argsort(s)[::-1]\n",
    "    s = s[idx[0]]\n",
    "    u = u[:,idx[0]]\n",
    "    vh = vh[:,idx[0]]\n",
    "    u = u[:,np.newaxis]\n",
    "    vh = vh[:, np.newaxis]\n",
    "\n",
    "    print(\"U matrix after transformation: \")\n",
    "    print(u.shape)\n",
    "    print(u)\n",
    "    print()\n",
    "\n",
    "    print(\"Sigma matrix after transformation: \")\n",
    "    print(s.shape)\n",
    "    print(s)\n",
    "    print()\n",
    "\n",
    "    print(\"V matrix after transformation: \")\n",
    "    print(vh.shape)\n",
    "    print(vh)\n",
    "    print()\n",
    "\n",
    "    result = (u * s).dot(vh.T)\n",
    "    print(\"M after transformation: \")\n",
    "    print(M.shape)\n",
    "    print(result)\n",
    "    print()\n",
    "    print(\"Matrix rank of M after transformation: \")\n",
    "    print(np.linalg.matrix_rank(result))\n",
    "    return result"
   ]
  },
  {
   "cell_type": "code",
   "execution_count": 10,
   "metadata": {
    "colab": {
     "base_uri": "https://localhost:8080/",
     "height": 781
    },
    "colab_type": "code",
    "id": "wWrMKC7YjfSa",
    "outputId": "9eb649ed-124a-46f5-f2e9-c53a9c59586b"
   },
   "outputs": [
    {
     "name": "stdout",
     "output_type": "stream",
     "text": [
      "M before transformation: \n",
      "(3, 2)\n",
      "[[1 2]\n",
      " [6 3]\n",
      " [0 2]]\n",
      "\n",
      "U matrix before transformation: \n",
      "(3, 3)\n",
      "[[-0.27073584  0.54578489 -0.79298232]\n",
      " [-0.95094914 -0.27969357  0.13216372]\n",
      " [-0.14965909  0.78986731  0.59473674]]\n",
      "\n",
      "Sigma matrix before transformation: \n",
      "(2,)\n",
      "[7.02571561 2.15390813]\n",
      "\n",
      "V matrix before transformation: \n",
      "(2, 2)\n",
      "[[-0.85065081 -0.52573111]\n",
      " [-0.52573111  0.85065081]]\n",
      "\n",
      "U matrix after transformation: \n",
      "(3, 1)\n",
      "[[-0.27073584]\n",
      " [-0.95094914]\n",
      " [-0.14965909]]\n",
      "\n",
      "Sigma matrix after transformation: \n",
      "()\n",
      "7.025715605900788\n",
      "\n",
      "V matrix after transformation: \n",
      "(2, 1)\n",
      "[[-0.85065081]\n",
      " [-0.52573111]]\n",
      "\n",
      "M after transformation: \n",
      "(3, 2)\n",
      "[[1.61803399 1.        ]\n",
      " [5.68328157 3.51246118]\n",
      " [0.89442719 0.5527864 ]]\n",
      "\n",
      "Matrix rank of M after transformation: \n",
      "1\n"
     ]
    }
   ],
   "source": [
    "M_t = reduce_to_one_dimension(M)"
   ]
  }
 ],
 "metadata": {
  "accelerator": "GPU",
  "anaconda-cloud": {},
  "colab": {
   "collapsed_sections": [],
   "name": "exercise_11_notebook.ipynb",
   "provenance": []
  },
  "kernelspec": {
   "display_name": "Python 3",
   "language": "python",
   "name": "python3"
  },
  "language_info": {
   "codemirror_mode": {
    "name": "ipython",
    "version": 3
   },
   "file_extension": ".py",
   "mimetype": "text/x-python",
   "name": "python",
   "nbconvert_exporter": "python",
   "pygments_lexer": "ipython3",
   "version": "3.8.1"
  },
  "toc": {
   "colors": {
    "hover_highlight": "#DAA520",
    "navigate_num": "#000000",
    "navigate_text": "#333333",
    "running_highlight": "#FF0000",
    "selected_highlight": "#FFD700",
    "sidebar_border": "#EEEEEE",
    "wrapper_background": "#FFFFFF"
   },
   "moveMenuLeft": true,
   "nav_menu": {
    "height": "48px",
    "width": "252px"
   },
   "navigate_menu": true,
   "number_sections": true,
   "sideBar": true,
   "threshold": 4,
   "toc_cell": false,
   "toc_section_display": "block",
   "toc_window_display": false,
   "widenNotebook": false
  }
 },
 "nbformat": 4,
 "nbformat_minor": 1
}
